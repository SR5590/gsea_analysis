{
 "cells": [
  {
   "cell_type": "code",
   "execution_count": 14,
   "metadata": {},
   "outputs": [
    {
     "name": "stdout",
     "output_type": "stream",
     "text": [
      "Requirement already satisfied: gseapy in /software/Sakshi/miniconda3/envs/Jupyter/lib/python3.7/site-packages (0.10.2)\n",
      "Requirement already satisfied: numpy>=1.13.0 in /software/Sakshi/miniconda3/envs/Jupyter/lib/python3.7/site-packages (from gseapy) (1.20.3)\n",
      "Requirement already satisfied: scipy in /software/Sakshi/miniconda3/envs/Jupyter/lib/python3.7/site-packages (from gseapy) (1.3.1)\n",
      "Requirement already satisfied: pandas in /software/Sakshi/miniconda3/envs/Jupyter/lib/python3.7/site-packages (from gseapy) (1.2.2)\n",
      "Requirement already satisfied: matplotlib in /software/Sakshi/miniconda3/envs/Jupyter/lib/python3.7/site-packages (from gseapy) (3.4.2)\n",
      "Requirement already satisfied: bioservices in /software/Sakshi/miniconda3/envs/Jupyter/lib/python3.7/site-packages (from gseapy) (1.7.9)\n",
      "Requirement already satisfied: requests in /software/Sakshi/miniconda3/envs/Jupyter/lib/python3.7/site-packages (from gseapy) (2.22.0)\n",
      "Requirement already satisfied: joblib in /software/Sakshi/miniconda3/envs/Jupyter/lib/python3.7/site-packages (from gseapy) (0.13.2)\n",
      "Requirement already satisfied: python-dateutil>=2.7.3 in /software/Sakshi/miniconda3/envs/Jupyter/lib/python3.7/site-packages (from pandas->gseapy) (2.8.0)\n",
      "Requirement already satisfied: pytz>=2017.3 in /software/Sakshi/miniconda3/envs/Jupyter/lib/python3.7/site-packages (from pandas->gseapy) (2020.1)\n",
      "Requirement already satisfied: pillow>=6.2.0 in /software/Sakshi/miniconda3/envs/Jupyter/lib/python3.7/site-packages (from matplotlib->gseapy) (7.1.2)\n",
      "Requirement already satisfied: pyparsing>=2.2.1 in /software/Sakshi/miniconda3/envs/Jupyter/lib/python3.7/site-packages (from matplotlib->gseapy) (2.4.7)\n",
      "Requirement already satisfied: cycler>=0.10 in /software/Sakshi/miniconda3/envs/Jupyter/lib/python3.7/site-packages (from matplotlib->gseapy) (0.10.0)\n",
      "Requirement already satisfied: kiwisolver>=1.0.1 in /software/Sakshi/miniconda3/envs/Jupyter/lib/python3.7/site-packages (from matplotlib->gseapy) (1.2.0)\n",
      "Requirement already satisfied: grequests in /software/Sakshi/miniconda3/envs/Jupyter/lib/python3.7/site-packages (from bioservices->gseapy) (0.6.0)\n",
      "Requirement already satisfied: requests_cache in /software/Sakshi/miniconda3/envs/Jupyter/lib/python3.7/site-packages (from bioservices->gseapy) (0.6.4)\n",
      "Requirement already satisfied: easydev>=0.9.36 in /software/Sakshi/miniconda3/envs/Jupyter/lib/python3.7/site-packages (from bioservices->gseapy) (0.10.1)\n",
      "Requirement already satisfied: beautifulsoup4 in /software/Sakshi/miniconda3/envs/Jupyter/lib/python3.7/site-packages (from bioservices->gseapy) (4.8.1)\n",
      "Requirement already satisfied: xmltodict in /software/Sakshi/miniconda3/envs/Jupyter/lib/python3.7/site-packages (from bioservices->gseapy) (0.13.0)\n",
      "Requirement already satisfied: lxml in /software/Sakshi/miniconda3/envs/Jupyter/lib/python3.7/site-packages (from bioservices->gseapy) (4.4.1)\n",
      "Requirement already satisfied: suds-jurko in /software/Sakshi/miniconda3/envs/Jupyter/lib/python3.7/site-packages (from bioservices->gseapy) (0.6)\n",
      "Requirement already satisfied: appdirs in /software/Sakshi/miniconda3/envs/Jupyter/lib/python3.7/site-packages (from bioservices->gseapy) (1.4.4)\n",
      "Requirement already satisfied: wrapt in /software/Sakshi/miniconda3/envs/Jupyter/lib/python3.7/site-packages (from bioservices->gseapy) (1.12.1)\n",
      "Requirement already satisfied: colorlog in /software/Sakshi/miniconda3/envs/Jupyter/lib/python3.7/site-packages (from bioservices->gseapy) (4.2.1)\n",
      "Requirement already satisfied: urllib3!=1.25.0,!=1.25.1,<1.26,>=1.21.1 in /software/Sakshi/miniconda3/envs/Jupyter/lib/python3.7/site-packages (from requests->gseapy) (1.24.3)\n",
      "Requirement already satisfied: idna<2.9,>=2.5 in /software/Sakshi/miniconda3/envs/Jupyter/lib/python3.7/site-packages (from requests->gseapy) (2.8)\n",
      "Requirement already satisfied: chardet<3.1.0,>=3.0.2 in /software/Sakshi/miniconda3/envs/Jupyter/lib/python3.7/site-packages (from requests->gseapy) (3.0.4)\n",
      "Requirement already satisfied: certifi>=2017.4.17 in /software/Sakshi/miniconda3/envs/Jupyter/lib/python3.7/site-packages (from requests->gseapy) (2021.5.30)\n",
      "Requirement already satisfied: six>=1.5 in /software/Sakshi/miniconda3/envs/Jupyter/lib/python3.7/site-packages (from python-dateutil>=2.7.3->pandas->gseapy) (1.12.0)\n",
      "Requirement already satisfied: gevent in /software/Sakshi/miniconda3/envs/Jupyter/lib/python3.7/site-packages (from grequests->bioservices->gseapy) (20.6.2)\n",
      "Requirement already satisfied: url-normalize>=1.4 in /software/Sakshi/miniconda3/envs/Jupyter/lib/python3.7/site-packages (from requests_cache->bioservices->gseapy) (1.4.3)\n",
      "Requirement already satisfied: itsdangerous in /software/Sakshi/miniconda3/envs/Jupyter/lib/python3.7/site-packages (from requests_cache->bioservices->gseapy) (1.1.0)\n",
      "Requirement already satisfied: pexpect in /software/Sakshi/miniconda3/envs/Jupyter/lib/python3.7/site-packages (from easydev>=0.9.36->bioservices->gseapy) (4.7.0)\n",
      "Requirement already satisfied: colorama in /software/Sakshi/miniconda3/envs/Jupyter/lib/python3.7/site-packages (from easydev>=0.9.36->bioservices->gseapy) (0.4.3)\n",
      "Requirement already satisfied: soupsieve>=1.2 in /software/Sakshi/miniconda3/envs/Jupyter/lib/python3.7/site-packages (from beautifulsoup4->bioservices->gseapy) (1.9.4)\n",
      "Requirement already satisfied: zope.event in /software/Sakshi/miniconda3/envs/Jupyter/lib/python3.7/site-packages (from gevent->grequests->bioservices->gseapy) (4.4)\n",
      "Requirement already satisfied: zope.interface in /software/Sakshi/miniconda3/envs/Jupyter/lib/python3.7/site-packages (from gevent->grequests->bioservices->gseapy) (5.1.0)\n",
      "Requirement already satisfied: setuptools in /software/Sakshi/miniconda3/envs/Jupyter/lib/python3.7/site-packages (from gevent->grequests->bioservices->gseapy) (41.0.1)\n",
      "Requirement already satisfied: greenlet>=0.4.16; platform_python_implementation == \"CPython\" in /software/Sakshi/miniconda3/envs/Jupyter/lib/python3.7/site-packages (from gevent->grequests->bioservices->gseapy) (0.4.17)\n",
      "Requirement already satisfied: ptyprocess>=0.5 in /software/Sakshi/miniconda3/envs/Jupyter/lib/python3.7/site-packages (from pexpect->easydev>=0.9.36->bioservices->gseapy) (0.6.0)\n"
     ]
    }
   ],
   "source": [
    "!pip install gseapy"
   ]
  },
  {
   "cell_type": "code",
   "execution_count": 15,
   "metadata": {},
   "outputs": [],
   "source": [
    "import pandas as pd\n",
    "from gseapy.plot import gseaplot\n",
    "import gseapy as gp\n",
    "import numpy as np"
   ]
  },
  {
   "cell_type": "code",
   "execution_count": 16,
   "metadata": {},
   "outputs": [
    {
     "data": {
      "text/html": [
       "<div>\n",
       "<style scoped>\n",
       "    .dataframe tbody tr th:only-of-type {\n",
       "        vertical-align: middle;\n",
       "    }\n",
       "\n",
       "    .dataframe tbody tr th {\n",
       "        vertical-align: top;\n",
       "    }\n",
       "\n",
       "    .dataframe thead th {\n",
       "        text-align: right;\n",
       "    }\n",
       "</style>\n",
       "<table border=\"1\" class=\"dataframe\">\n",
       "  <thead>\n",
       "    <tr style=\"text-align: right;\">\n",
       "      <th></th>\n",
       "      <th>Gene</th>\n",
       "      <th>baseMean</th>\n",
       "      <th>log2FoldChange</th>\n",
       "      <th>lfcSE</th>\n",
       "      <th>stat</th>\n",
       "      <th>pvalue</th>\n",
       "      <th>padj</th>\n",
       "    </tr>\n",
       "  </thead>\n",
       "  <tbody>\n",
       "    <tr>\n",
       "      <th>0</th>\n",
       "      <td>Tbx3</td>\n",
       "      <td>100.917979</td>\n",
       "      <td>10.149125</td>\n",
       "      <td>1.916481</td>\n",
       "      <td>5.295708</td>\n",
       "      <td>1.190000e-07</td>\n",
       "      <td>1.240000e-05</td>\n",
       "    </tr>\n",
       "    <tr>\n",
       "      <th>1</th>\n",
       "      <td>Cers6</td>\n",
       "      <td>88.079511</td>\n",
       "      <td>9.952960</td>\n",
       "      <td>1.658755</td>\n",
       "      <td>6.000258</td>\n",
       "      <td>1.970000e-09</td>\n",
       "      <td>4.090000e-07</td>\n",
       "    </tr>\n",
       "    <tr>\n",
       "      <th>2</th>\n",
       "      <td>Gabrg2</td>\n",
       "      <td>260.336054</td>\n",
       "      <td>9.660704</td>\n",
       "      <td>1.147208</td>\n",
       "      <td>8.421057</td>\n",
       "      <td>3.730000e-17</td>\n",
       "      <td>5.290000e-14</td>\n",
       "    </tr>\n",
       "    <tr>\n",
       "      <th>3</th>\n",
       "      <td>Kcnn2</td>\n",
       "      <td>69.626503</td>\n",
       "      <td>9.613651</td>\n",
       "      <td>2.236224</td>\n",
       "      <td>4.299056</td>\n",
       "      <td>1.720000e-05</td>\n",
       "      <td>7.188500e-04</td>\n",
       "    </tr>\n",
       "    <tr>\n",
       "      <th>4</th>\n",
       "      <td>Serpinb8</td>\n",
       "      <td>56.685598</td>\n",
       "      <td>9.317137</td>\n",
       "      <td>1.921613</td>\n",
       "      <td>4.848601</td>\n",
       "      <td>1.240000e-06</td>\n",
       "      <td>8.850000e-05</td>\n",
       "    </tr>\n",
       "    <tr>\n",
       "      <th>...</th>\n",
       "      <td>...</td>\n",
       "      <td>...</td>\n",
       "      <td>...</td>\n",
       "      <td>...</td>\n",
       "      <td>...</td>\n",
       "      <td>...</td>\n",
       "      <td>...</td>\n",
       "    </tr>\n",
       "    <tr>\n",
       "      <th>302</th>\n",
       "      <td>Vwa1</td>\n",
       "      <td>15.002961</td>\n",
       "      <td>2.065310</td>\n",
       "      <td>0.709116</td>\n",
       "      <td>2.912513</td>\n",
       "      <td>3.585332e-03</td>\n",
       "      <td>4.366817e-02</td>\n",
       "    </tr>\n",
       "    <tr>\n",
       "      <th>303</th>\n",
       "      <td>Cpne5</td>\n",
       "      <td>64.469709</td>\n",
       "      <td>2.046157</td>\n",
       "      <td>0.451371</td>\n",
       "      <td>4.533209</td>\n",
       "      <td>5.810000e-06</td>\n",
       "      <td>3.060290e-04</td>\n",
       "    </tr>\n",
       "    <tr>\n",
       "      <th>304</th>\n",
       "      <td>Pcsk1</td>\n",
       "      <td>151.294137</td>\n",
       "      <td>2.033540</td>\n",
       "      <td>0.493516</td>\n",
       "      <td>4.120515</td>\n",
       "      <td>3.780000e-05</td>\n",
       "      <td>1.337238e-03</td>\n",
       "    </tr>\n",
       "    <tr>\n",
       "      <th>305</th>\n",
       "      <td>Lrrn2</td>\n",
       "      <td>151.295524</td>\n",
       "      <td>2.031029</td>\n",
       "      <td>0.245708</td>\n",
       "      <td>8.266013</td>\n",
       "      <td>1.390000e-16</td>\n",
       "      <td>1.810000e-13</td>\n",
       "    </tr>\n",
       "    <tr>\n",
       "      <th>306</th>\n",
       "      <td>Adam19</td>\n",
       "      <td>96.676443</td>\n",
       "      <td>2.021096</td>\n",
       "      <td>0.445842</td>\n",
       "      <td>4.533209</td>\n",
       "      <td>5.810000e-06</td>\n",
       "      <td>3.060290e-04</td>\n",
       "    </tr>\n",
       "  </tbody>\n",
       "</table>\n",
       "<p>307 rows × 7 columns</p>\n",
       "</div>"
      ],
      "text/plain": [
       "         Gene    baseMean  log2FoldChange     lfcSE      stat        pvalue  \\\n",
       "0        Tbx3  100.917979       10.149125  1.916481  5.295708  1.190000e-07   \n",
       "1       Cers6   88.079511        9.952960  1.658755  6.000258  1.970000e-09   \n",
       "2      Gabrg2  260.336054        9.660704  1.147208  8.421057  3.730000e-17   \n",
       "3       Kcnn2   69.626503        9.613651  2.236224  4.299056  1.720000e-05   \n",
       "4    Serpinb8   56.685598        9.317137  1.921613  4.848601  1.240000e-06   \n",
       "..        ...         ...             ...       ...       ...           ...   \n",
       "302      Vwa1   15.002961        2.065310  0.709116  2.912513  3.585332e-03   \n",
       "303     Cpne5   64.469709        2.046157  0.451371  4.533209  5.810000e-06   \n",
       "304     Pcsk1  151.294137        2.033540  0.493516  4.120515  3.780000e-05   \n",
       "305     Lrrn2  151.295524        2.031029  0.245708  8.266013  1.390000e-16   \n",
       "306    Adam19   96.676443        2.021096  0.445842  4.533209  5.810000e-06   \n",
       "\n",
       "             padj  \n",
       "0    1.240000e-05  \n",
       "1    4.090000e-07  \n",
       "2    5.290000e-14  \n",
       "3    7.188500e-04  \n",
       "4    8.850000e-05  \n",
       "..            ...  \n",
       "302  4.366817e-02  \n",
       "303  3.060290e-04  \n",
       "304  1.337238e-03  \n",
       "305  1.810000e-13  \n",
       "306  3.060290e-04  \n",
       "\n",
       "[307 rows x 7 columns]"
      ]
     },
     "execution_count": 16,
     "metadata": {},
     "output_type": "execute_result"
    }
   ],
   "source": [
    "df = pd.read_csv('Up_genes_H2A_52_vs_EV_52.tsv', sep='\\t').dropna()\n",
    "df = df.rename(columns = {'Gene_ID': 'Gene'})\n",
    "#df = df[df.padj < 0.05] it is best practice not to filter\n",
    "df"
   ]
  },
  {
   "cell_type": "code",
   "execution_count": 17,
   "metadata": {},
   "outputs": [
    {
     "data": {
      "text/html": [
       "<div>\n",
       "<style scoped>\n",
       "    .dataframe tbody tr th:only-of-type {\n",
       "        vertical-align: middle;\n",
       "    }\n",
       "\n",
       "    .dataframe tbody tr th {\n",
       "        vertical-align: top;\n",
       "    }\n",
       "\n",
       "    .dataframe thead th {\n",
       "        text-align: right;\n",
       "    }\n",
       "</style>\n",
       "<table border=\"1\" class=\"dataframe\">\n",
       "  <thead>\n",
       "    <tr style=\"text-align: right;\">\n",
       "      <th></th>\n",
       "      <th>Gene</th>\n",
       "      <th>baseMean</th>\n",
       "      <th>log2FoldChange</th>\n",
       "      <th>lfcSE</th>\n",
       "      <th>stat</th>\n",
       "      <th>pvalue</th>\n",
       "      <th>padj</th>\n",
       "      <th>Rank</th>\n",
       "    </tr>\n",
       "  </thead>\n",
       "  <tbody>\n",
       "    <tr>\n",
       "      <th>0</th>\n",
       "      <td>Gabrg2</td>\n",
       "      <td>260.336054</td>\n",
       "      <td>9.660704</td>\n",
       "      <td>1.147208</td>\n",
       "      <td>8.421057</td>\n",
       "      <td>3.730000e-17</td>\n",
       "      <td>5.290000e-14</td>\n",
       "      <td>128.260763</td>\n",
       "    </tr>\n",
       "    <tr>\n",
       "      <th>1</th>\n",
       "      <td>Ephb6</td>\n",
       "      <td>139.465999</td>\n",
       "      <td>8.753028</td>\n",
       "      <td>1.078623</td>\n",
       "      <td>8.115002</td>\n",
       "      <td>4.860000e-16</td>\n",
       "      <td>5.170000e-13</td>\n",
       "      <td>107.544160</td>\n",
       "    </tr>\n",
       "    <tr>\n",
       "      <th>2</th>\n",
       "      <td>Prkar2b</td>\n",
       "      <td>106.250015</td>\n",
       "      <td>6.175858</td>\n",
       "      <td>0.679309</td>\n",
       "      <td>9.091377</td>\n",
       "      <td>9.780000e-20</td>\n",
       "      <td>1.660000e-16</td>\n",
       "      <td>97.454371</td>\n",
       "    </tr>\n",
       "    <tr>\n",
       "      <th>3</th>\n",
       "      <td>Dync1i1</td>\n",
       "      <td>35.932964</td>\n",
       "      <td>8.661569</td>\n",
       "      <td>1.287090</td>\n",
       "      <td>6.729574</td>\n",
       "      <td>1.700000e-11</td>\n",
       "      <td>6.160000e-09</td>\n",
       "      <td>71.115111</td>\n",
       "    </tr>\n",
       "    <tr>\n",
       "      <th>4</th>\n",
       "      <td>Arhgap44</td>\n",
       "      <td>61.834686</td>\n",
       "      <td>6.576660</td>\n",
       "      <td>0.867292</td>\n",
       "      <td>7.582978</td>\n",
       "      <td>3.380000e-14</td>\n",
       "      <td>2.210000e-11</td>\n",
       "      <td>70.078307</td>\n",
       "    </tr>\n",
       "    <tr>\n",
       "      <th>...</th>\n",
       "      <td>...</td>\n",
       "      <td>...</td>\n",
       "      <td>...</td>\n",
       "      <td>...</td>\n",
       "      <td>...</td>\n",
       "      <td>...</td>\n",
       "      <td>...</td>\n",
       "      <td>...</td>\n",
       "    </tr>\n",
       "    <tr>\n",
       "      <th>302</th>\n",
       "      <td>Zfp978</td>\n",
       "      <td>13.959211</td>\n",
       "      <td>2.262754</td>\n",
       "      <td>0.758404</td>\n",
       "      <td>2.983572</td>\n",
       "      <td>2.849050e-03</td>\n",
       "      <td>3.680834e-02</td>\n",
       "      <td>3.244911</td>\n",
       "    </tr>\n",
       "    <tr>\n",
       "      <th>303</th>\n",
       "      <td>Slc6a17</td>\n",
       "      <td>8.890917</td>\n",
       "      <td>2.369262</td>\n",
       "      <td>0.828870</td>\n",
       "      <td>2.858424</td>\n",
       "      <td>4.257507e-03</td>\n",
       "      <td>4.959046e-02</td>\n",
       "      <td>3.090944</td>\n",
       "    </tr>\n",
       "    <tr>\n",
       "      <th>304</th>\n",
       "      <td>Frat2</td>\n",
       "      <td>18.113301</td>\n",
       "      <td>2.213449</td>\n",
       "      <td>0.753169</td>\n",
       "      <td>2.938846</td>\n",
       "      <td>3.294372e-03</td>\n",
       "      <td>4.100493e-02</td>\n",
       "      <td>3.070416</td>\n",
       "    </tr>\n",
       "    <tr>\n",
       "      <th>305</th>\n",
       "      <td>Vwa1</td>\n",
       "      <td>15.002961</td>\n",
       "      <td>2.065310</td>\n",
       "      <td>0.709116</td>\n",
       "      <td>2.912513</td>\n",
       "      <td>3.585332e-03</td>\n",
       "      <td>4.366817e-02</td>\n",
       "      <td>2.808482</td>\n",
       "    </tr>\n",
       "    <tr>\n",
       "      <th>306</th>\n",
       "      <td>Gem</td>\n",
       "      <td>20.458431</td>\n",
       "      <td>2.090661</td>\n",
       "      <td>0.723454</td>\n",
       "      <td>2.889831</td>\n",
       "      <td>3.854494e-03</td>\n",
       "      <td>4.612110e-02</td>\n",
       "      <td>2.793332</td>\n",
       "    </tr>\n",
       "  </tbody>\n",
       "</table>\n",
       "<p>307 rows × 8 columns</p>\n",
       "</div>"
      ],
      "text/plain": [
       "         Gene    baseMean  log2FoldChange     lfcSE      stat        pvalue  \\\n",
       "0      Gabrg2  260.336054        9.660704  1.147208  8.421057  3.730000e-17   \n",
       "1       Ephb6  139.465999        8.753028  1.078623  8.115002  4.860000e-16   \n",
       "2     Prkar2b  106.250015        6.175858  0.679309  9.091377  9.780000e-20   \n",
       "3     Dync1i1   35.932964        8.661569  1.287090  6.729574  1.700000e-11   \n",
       "4    Arhgap44   61.834686        6.576660  0.867292  7.582978  3.380000e-14   \n",
       "..        ...         ...             ...       ...       ...           ...   \n",
       "302    Zfp978   13.959211        2.262754  0.758404  2.983572  2.849050e-03   \n",
       "303   Slc6a17    8.890917        2.369262  0.828870  2.858424  4.257507e-03   \n",
       "304     Frat2   18.113301        2.213449  0.753169  2.938846  3.294372e-03   \n",
       "305      Vwa1   15.002961        2.065310  0.709116  2.912513  3.585332e-03   \n",
       "306       Gem   20.458431        2.090661  0.723454  2.889831  3.854494e-03   \n",
       "\n",
       "             padj        Rank  \n",
       "0    5.290000e-14  128.260763  \n",
       "1    5.170000e-13  107.544160  \n",
       "2    1.660000e-16   97.454371  \n",
       "3    6.160000e-09   71.115111  \n",
       "4    2.210000e-11   70.078307  \n",
       "..            ...         ...  \n",
       "302  3.680834e-02    3.244911  \n",
       "303  4.959046e-02    3.090944  \n",
       "304  4.100493e-02    3.070416  \n",
       "305  4.366817e-02    2.808482  \n",
       "306  4.612110e-02    2.793332  \n",
       "\n",
       "[307 rows x 8 columns]"
      ]
     },
     "execution_count": 17,
     "metadata": {},
     "output_type": "execute_result"
    }
   ],
   "source": [
    "df['Rank'] = -np.log10(df['padj'])*df['log2FoldChange']\n",
    "df = df.sort_values('Rank', ascending = False).reset_index(drop = True)\n",
    "df"
   ]
  },
  {
   "cell_type": "code",
   "execution_count": 18,
   "metadata": {},
   "outputs": [
    {
     "name": "stdout",
     "output_type": "stream",
     "text": [
      "0      Gabrg2\n",
      "1       Ephb6\n",
      "2     Prkar2b\n",
      "3     Dync1i1\n",
      "4    Arhgap44\n",
      "Name: Gene, dtype: object\n"
     ]
    }
   ],
   "source": [
    "ranking = df[['Gene', 'Rank']]\n",
    "ranking\n",
    "print(ranking['Gene'].head())"
   ]
  },
  {
   "cell_type": "code",
   "execution_count": 19,
   "metadata": {},
   "outputs": [
    {
     "name": "stdout",
     "output_type": "stream",
     "text": [
      "['Parp1', 'Cfh', 'Endog', 'Lig3', 'Mef2a', 'Mpv17', 'Polg', 'Ppargc1a', 'Slc25a36', 'Rnaseh1', 'Rrm1', 'Stox1', 'Flcn', 'Top3a', 'Trp53', 'Twnk', 'Sesn2', 'Akt3', 'Mrpl39', 'Mrpl15', 'Mrpl17', 'Dna2', 'Ssbp1', 'Rrm2b', 'Primpol', 'Polg2', 'Tk2', 'Slc25a33', 'Chchd4', 'Tymp', 'Opa1', 'Atg7', 'Mgme1', 'Mettl4', 'Gimap3', 'Dnaja3\\n']\n"
     ]
    },
    {
     "name": "stdout",
     "output_type": "stream",
     "text": [
      "['Zglp1', 'Spink13', 'Apela', 'Gm1993', 'Gm2012', 'Gm2030', 'Gm14525', 'Gm20817', 'Gm20820', 'Fancf', 'Gm16430', 'Gm10488', 'Gm10230', 'H2al1a', 'H2al1c', 'H2al1d', 'H2al1f', 'H2al1g', 'H2al1h', 'H2al1i', 'Gm4297', 'Cfap43', 'Mir741', 'Mir743', 'Mir742', 'Tdrd7', 'Mir881', 'Mir878', 'Mir880', 'Shoc1', 'Mir449b', 'Btbd18', 'AU040320', 'Tmem95', 'Arhgap33os', 'Gm21996', 'Oas1d', 'Gm21095', 'Gm21294', 'Akap9', 'Gm29276', 'Gm21760', 'Gm28576', 'Ttll3', 'Parp11', 'Plekha1', 'Gm29866', 'Rnf212b', 'Gm28919', 'Gm28961', 'Gm28510', 'Gm29554', 'Gm28102', 'Gm21858', 'Gm28870', 'Bbs4', 'Ezhip', 'Nup107', 'Psme4', 'Fbxw11', 'Tubg1', 'Tubg2', 'Adcy3', 'Etv5', 'Kdm3a', 'Tex15', 'Gas8', 'Meig1', 'Mycbpap', 'Vipas39', 'Fancm', 'Spem3', 'Gm20824', 'Akr1c18', 'Fam170b', 'Espl1', 'Eaf2', 'Catsperd', 'Lgr4', 'Asmt', 'Krt9', 'Prl2c5', 'H1f6', 'Cdc20', 'Gm21865', 'Gm20843', 'Gm20890', 'Gm21627', 'Gm20911', 'Gm21117', 'Jmjd1c', 'E2f8', 'Hyal3', 'Arrb1', 'Pgm3', 'Tpgs1', 'Dnah5', 'Dnah1', 'Ehmt2', 'Grk2', 'Amhr2', 'D1Pas1', 'M1ap', '1700102P08Rik', 'Pzp', 'Abl2', 'Esp22', 'Ace', 'Acox1', 'Acr', 'Chrna7', 'Zmynd10', 'Tle6', 'Brdt', 'Prss28', 'Prss29', 'Actl7a', 'Rad51c', 'Acvr1', 'Acvr1b', 'Acvr2a', 'Ada', 'Plcz1', 'Adam2', 'Adam3', 'Adam4', 'Adam5', 'Adamts1', 'Adcyap1', 'Adcyap1r1', 'Parp1', 'Parp2', 'Adra2a', 'Adra2b', 'Adra2c', 'Afp', 'Angpt1', 'Agt', 'Nr0b1', 'Ahr', 'Ahsg', 'Akap4', 'Alpl', 'Akt1', 'Aldoa', 'Rims1', 'Slc19a2', 'Amh', 'Anxa5', 'Prdx3', 'Ap3b1', 'Apc', 'Birc5', 'Aplp2', 'Nr2f2', 'App', 'Ar', 'Areg', 'Gm28035', 'Arhgdib', 'Arntl', 'Arsa', 'Atm', 'Avp', 'Cep131', 'Bak1', 'Bax', 'Phb2', 'Bckdk', 'Bcl2', 'Bcl2l1', 'Bcl2l2', 'Bcl6', 'Bik', 'Bcl2l11', 'Prdm1', 'Bmp15', 'Bmp4', 'Bmp5', 'Bmp6', 'Bmp7', 'Bmp8a', 'Bmp8b', 'Bmpr1a', 'Bmpr1b', 'Bmpr2', 'Bnc1', 'Brca2', 'Bsg', 'Bub1', 'Bub1b', 'Bub3', 'C1qbp', 'C3', 'Cacna1e', 'Ddr1', 'Calca', 'Aspm', 'Calr', 'Camk2b', 'Casp4', 'Casp2', 'Cast', 'Ctnnb1', 'Runx1', 'Cbs', 'Cbx2', 'Cckbr', 'Ccna1', 'Ccnb2', 'Ccnd1', 'Ccne1', 'Ccne2', 'Ccr6', 'Cct2', 'Cct3', 'Cct4', 'Cct5', 'Cct6a', 'Cct7', 'Cct8', 'Cd44', 'Cd9', 'Cdc25a', 'Cdc25b', 'Cdc25c', 'Cdh1', 'Cdk2', 'Cdkn1b', 'Cdkn1c', 'Ift81', 'Cdyl', 'Cebpb', 'Cenpc1', 'Cftr', 'Cga', 'Ovgp1', 'Cit', 'Clgn', 'Clock', 'Cxcr4', 'Cnr1', 'Cntfr', 'Col9a3', 'Comt', 'Cpeb1', 'Crem', 'Crh', 'Crhbp', 'Crkl', 'Cr1l', 'Csf1', 'Smc3', 'Ctsb', 'Ctsl', 'Celf1', 'Cxadr', 'Cyp11a1', 'Cyp19a1', 'Cyp51', 'Cyp7b1', 'Dach1', 'Dazl', 'Dbh', 'Ddb1', 'Ddx3x', 'Ddx4', 'Defb1', 'Dhh', 'Dld', 'Dlg1', 'Dmc1', 'Dnah11', 'Dnmt3a', 'Slc26a3', 'Drd1', 'Drd4', 'Drd5', 'Atn1', 'Adam18', 'Adam26a', 'Adam24', 'Prl8a2', 'Edn1', 'Edn2', 'Ednra', 'Ednrb', 'Egfr', 'Egr1', 'Eif2b4', 'Elf5', 'Emp2', 'Eomes', 'Epc1', 'Stx2', 'Epn1', 'Epo', 'Epor', 'Erbb2', 'Ercc1', 'Ereg', 'Erf', 'Esr1', 'Esr2', 'Etv6', 'Rxfp2', 'Smc1b', 'Fanca', 'Fancc', 'Fbn2', 'Fem1b', 'Lgr5', 'Fgf10', 'Fgf7', 'Fgf8', 'Fgf9', 'Fgfr2', 'Smc2', 'Fkbp4', 'Foxf2', 'Folr1', 'Folr2', 'Fosl1', 'Fshb', 'Fshr', 'Fst', 'Fut7', 'Fzd4', 'Fzd5', 'Gabrb3', 'B4galnt1', 'Galnt3', 'Gamt', 'Gapdhs', 'Gas2', 'Gata1', 'Gata3', 'Gata4', 'Gcm1', 'Nr6a1', 'Gdf9', 'B4galt1', 'Ggt1', 'Gja1', 'Gja10', 'Gjb5', 'Gk2', 'Gli1', 'Gli2', 'Glra1', 'Glrb', 'Gnaq', 'Bscl2', 'Gnrh1', 'Lrp2', 'Gpr3', 'Ptgdr2', 'Adgrg1', 'Gsr', 'Grin1', 'Nr3c1', 'Grn', 'Haspin', 'H2-Q2', 'H2-Q7', 'H3f3a', 'H3f3b', 'Hand1', 'Hdac2', 'Htt', 'Herc2', 'Hesx1', 'Hexa', 'Hexb', 'Mst1', 'Mfsd14a', 'H2ax', 'Hmga1', 'Hmga2', 'Hmx3', 'Foxa1', 'Foxa3', 'Hnf4a', 'Hnrnpk', 'Hoxa10', 'Hoxa11', 'Hoxa13', 'Hoxa9', 'Hoxb13', 'Hoxd10', 'Hoxd11', 'Hoxd13', 'Hoxd9', 'Hpgd', 'Agfg1', 'Hspa1l', 'Hsd11b2', 'Hsd17b3', 'Hsd17b4', 'Hsf1', 'Hsf2', 'Dnaja1', 'Hspa1b', 'Hspa2', 'Slc6a4', 'Hus1', 'Icam1', 'Id4', 'Igf1', 'Igf1r', 'Igfbp5', 'Ihh', 'Il11ra1', 'Il11ra2', 'Il18', 'Il1a', 'Il1b', 'Incenp', 'Inha', 'Inhba', 'Inhbb', 'Inpp5b', 'Insl3', 'Insr', 'Acod1', 'Itga3', 'Itgav', 'Itgb1', 'Itgb3', 'Cuzd1', 'Jag1', 'Jag2', 'Junb', 'Kcnu1', 'Kdr', 'Kif9', 'Kit', 'Klf9', 'Kpna6', 'Krt19', 'Krt8', 'Lamb1', 'Lamp1', 'Ldhc', 'Lep', 'Lepr', 'Lfng', 'Lgals9', 'Lhb', 'Lhcgr', 'Lhx1', 'Lhx8', 'Lhx9', 'Lif', 'Limk2', 'Anxa1', 'Irag2', 'Lrp6', 'Mfn2', 'Smad1', 'Smad4', 'Havcr2', 'Smad5', 'Slc26a6', 'Magoh', 'H1f8', 'Mas1', 'Ascl2', 'Mbd2', 'Cd46', 'Smcp', 'Mdfi', 'Mdk', 'Mea1', 'Men1', 'Mertk', 'Met', 'Foxc1', 'Mfge8', 'Kitl', 'Mki67', 'Mlh1', 'Mmp12', 'Mmp2', 'Mmp9', 'Mns1', 'Morc1', 'Mos', 'Mre11a', 'Cited2', 'Msh2', 'Msh5', 'Msx1', 'Msx2', 'Map7', 'Tesmin', 'Mast2', 'Mug1', 'Mybl1', 'Myh9', 'Ncoa1', 'Ncoa2', 'Ncoa3', 'Septin2', 'Nek1', 'Nek2', 'Neurl1a', 'Neurog1', 'Nhlh2', 'Nkx3-1', 'Nodal', 'Nog', 'Nos2', 'Nos3', 'Notch1', 'Npas1', 'Nppc', 'Npy5r', 'Ntrk1', 'Odf1', 'Odf2', 'Nobox', 'Sebox', 'Oprk1', 'Osm', 'Cldn11', 'Ovol1', 'Oxt', 'Oxtr', 'Oca2', 'P2rx1', 'P2ry1', 'P2ry2', 'Pafah1b1', 'Pafah1b2', 'Pafah1b3', 'Pax2', 'Pax5', 'Pbx1', 'Pcsk4', 'Pcsk5', 'Cdk16', 'Pdgfra', 'Enpp2', 'Rhox5', 'Pgk2', 'Pgr', 'Prkaca', 'Prkacb', 'Pkdrej', 'Prl3d1', 'Prl3b1', 'Pla2g4a', 'Serpine1', 'Plat', 'Plau', 'Plaur', 'Plcb1', 'Plcd4', 'Prl2c2', 'Prl2c3', 'Prl7d1', 'Plg', 'Plk1', 'Pln', 'Pltp', 'Pmp22', 'Pms2', 'Septin4', 'Med1', 'Ppard', 'Ppp1r1b', 'Ppp2ca', 'Ppp3cc', 'Ppp3r2', 'Prkdc', 'Prl', 'Prl4a1', 'Prl6a1', 'Prl8a6', 'Prl7a1', 'Prl7a2', 'Prlr', 'Prm1', 'Prm2', 'Prm3', 'St14', 'Psap', 'Psmc3ip', 'Ptafr', 'Pten', 'Dicer1', 'Ptgdr', 'Ptgds', 'Flna', 'Ptger4', 'Ash1l', 'Rspo1', 'Ptgis', 'Hps1', 'Ptgs2', 'Ptk2b', 'Ptn', 'Ptpn11', 'Ptprn', 'Ptx3', 'Itgb4', 'Nectin2', 'Qki', 'Oog1', 'Rab3a', 'Rac1', 'Rad1', 'Rad23b', 'Rad50', 'Rad51', 'Rad51ap1', 'Rad51d', 'Rad54l', 'Eme2', 'Rara', 'Rarg', 'Pld6', 'Utp14b', 'Rbmy', 'Rbp4', 'Rbpj', 'Ren1', 'Rfx2', 'Rgn', 'Rgs2', 'Rln1', 'Rnf2', 'Ros1', 'Polr1b', 'Rps6', 'Rps6ka2', 'Rxra', 'Rxrb', 'S100a11', 'Cxcl12', 'Serpinf1', 'Sfrp2', 'Sord', 'Sema3a', 'Selenop', 'Sfrp1', 'Sgpl1', 'Shbg', 'Shh', 'Siah1a', 'Six3', 'Six4', 'Six5', 'Slc22a5', 'Slc4a2', 'Snai1', 'Sod1', 'Sos1', 'Sox15', 'Sox17', 'Sox2', 'Sox3', 'Sox8', 'Sox9', 'Sp1', 'Spa17', 'Sp3', 'Spam1', 'Serpinb6b', 'Serpinb6a', 'Serpine2', 'Serpinb5', 'Spin1', 'Spink1', 'Hectd1', 'Spint2', 'Sec23ip', 'Strbp', 'Sprr2d', 'Ccdc40', 'Cfap69', 'Src', 'Dhx37', 'Slc9c1', 'Ghsr', 'Snu13', 'Stag2', 'Stat3', 'Stat5a', 'Stat5b', 'Sult1e1', 'Stk11', 'Aurkc', 'Hdac4', 'Plk4', 'Aurka', 'Ccdc62', 'Cenpx', 'Stra6', 'Stra8', 'Sirt7', 'Ccnb3', 'Stxbp1', 'Sycp1', 'Sycp3', 'T', 'Tdrd6', 'Mettl14', 'Hus1b', 'Tsga10', 'Fancd2', 'Cfap44', 'Catsper2', 'Tifab', 'Wdr19', 'Dnd1', 'Txndc2', 'Tac1', 'Tac2', 'Tacr1', 'Tacr2', 'Tacr3', 'Prdm9', 'Armc2', 'Ythdf2', 'Tarbp2', 'Xist', 'Tbx3', 'Hnf1a', 'Hnf1b', 'Sox30', 'Tcf21', 'Tcf7', 'Tcf7l2', 'Tut7', 'Gm4787', 'Myocd', 'Tcp1', 'Tdrd5', 'Duox2', 'Tcp11', 'Chtf18', 'Prl3d2', 'Prl3d3', 'Astl', 'Ncaph', 'Adgb', 'Taar5', 'Tspan8', 'Tcte1', 'Adamts2', 'Sry', 'Tead4', 'Arrb2', 'Ggnbp2', 'Spata20', 'Hrob', 'Qrich2', 'Adad1', 'Terf1', 'Eif2b2', 'Mlh3', 'Tgfb1', 'Tgfb2', 'Tgfbr1', 'Ift88', 'Kdm1b', 'Th', 'Thbd', 'Theg', 'Thra', 'Thrb', 'Tial1', 'Lhfpl2', 'Trim28', 'Timp1', 'Nkx2-1', 'Tle3', 'Tppp2', 'Tnc', 'Tnfaip6', 'Dedd', 'Tnp1', 'Tnp2', 'Top2a', 'Top2b', 'Tpst2', 'Nr2c2', 'Trp53', 'Trp63', 'Trpc2', 'Trpc3', 'Trpc6', 'Rsph1', 'Tssk1', 'Tssk2', 'Tsx', 'Ttk', 'Tyro3', 'Ubb', 'Ube2a', 'Ube2b', 'Ube3a', 'Uchl1', 'Unc13b', 'Unc5c', 'Vdac2', 'Vdr', 'Vegfa', 'Vip', 'Washc5', 'Sun2', 'Mroh2b', 'Eif4h', 'Aaas', 'Marf1', 'Eif2b5', 'Wnt9b', 'Wnt3', 'Wnt4', 'Cip2a', 'Wnt5a', 'Wnt7a', 'Wt1', 'Xlr', 'Xlr3a', 'Xlr3c', 'Slc26a8', 'Bag6', 'Ubr2', 'Safb2', 'Rbbp8', 'Fam170a', 'Catsper1', 'Atrx', 'Oosp2', 'Dmrt2', 'Ermp1', 'Dpcd', 'Eno4', 'Yy1', 'Zan', 'Cfap221', 'Zfp148', 'Sf1', 'Zscan2', 'Zfp35', 'Zfp37', 'Zscan21', 'Zfp39', 'Zfp41', 'Zfp42', 'Ccnyl1', 'Slco4c1', 'Tmem203', 'Zfpm2', 'Sohlh1', 'Zfx', 'Zfy2', 'BC005624', 'Cfap157', 'Zp1', 'Zp2', 'Zp3', 'Zp3r', 'Kif18a', 'Taf4', 'Ythdf3', 'Bltp1', 'Gpr149', 'Cenpe', 'Gtf2b', 'Npr2', 'Shb', 'Tut4', 'Foxj3', 'Eif4g3', 'Nppa', 'Kmt2c', 'Ythdc1', 'Chfr', 'Tmem119', 'Tmem184a', 'Katnal1', 'Cyp26b1', 'Txnrd3', 'Tmf1', 'A2m', 'Ccdc136', 'Zfp628', 'Klc3', 'Tubgcp5', 'Ankle1', 'Spire2', 'Septin7', 'Zbtb16', 'Ttc12', 'Hoatz', 'Dmxl2', 'Topbp1', 'Prss42', 'Alms1', 'Pcyt1b', 'Tbpl1', 'Pla2g3', 'Brip1', 'Adam25', 'Sppl2c', 'Apob', 'Gdf7', 'Rpl10l', 'Arid4a', 'Irf2bpl', 'Adam6b', 'Adam6a', 'Gmcl1', 'Ccnb1ip1', 'Insrr', 'Dnajb6', 'Ago2', 'Ttll8', 'Osr1', 'Nlrp5', 'Rimbp3', 'Pebp1', 'Cib1', 'Psmd13', 'Pnldc1', 'Morc2b', 'Ythdc2', 'Dmrt3', 'Smc1a', 'Mcmdc2', 'Sulf1', 'Tekt2', 'Tlk2', 'Lrrc52', 'Cfap65', 'Xrn1', 'Xrn2', 'Lrrc8a', 'Fsip2', 'Exd1', 'Pde5a', 'Dmrta1', 'Dmrta2', 'Psg22', 'Meiosin', 'Ggn', 'Ovch2', 'Adam29', 'Sgo2b', 'Nanos3', 'Scaper', 'Atr', 'Spag4', 'Garin1a', 'Vps54', 'Adig', 'Adam34', 'Odf4', 'Ropn1l', 'Grhl2', 'Or4m1', 'Tubgcp3', 'Nphp4', 'Abcg2', 'Axl', 'Cetn2', 'Gnpda1', 'Spata2', 'Map3k4', 'Mapk1', 'Ttc26', 'Mapk3', 'Nr5a1', 'Orc4', 'Prnd', 'Psg17', 'Ror2', 'Pla2g10', 'Sh3pxd2b', 'Alkbh5', 'Eme1', 'Meioc', 'Serpina5', 'Ccnb1', 'Mir124a-1hg', 'Abat', 'Nrip1', 'Ddx3y', 'Exo1', 'Figla', 'Cntrl', 'Setx', 'Foxl2', 'Acvr1c', 'Racgap1', 'Spag1', 'Trpc7', 'Chd5', 'Golga3', 'Wdr66', 'Spo11', 'Bcap31', 'Spin4', 'Xlr4b', 'Xlr5c', 'Catsperb', 'Adamts16', 'Vps13a', 'Adcy10', 'Nrk', 'Atp1a4', 'Prss43', 'Nbn', 'Insl6', 'Prl3c1', 'Npas3', 'Ccdc42', 'Spaca5', 'Spin2c', 'Kiss1', 'Larp7', 'Adam1b', 'Adam1a', 'Prl5a1', 'Trim36', 'Nsun2', 'Cep63', 'Ndrg3', 'Scmh1', 'Clic4', 'Rnf17', 'Kdm2b', 'Pttg1', 'Schip1', 'Ddx25', 'Klk14', 'Zar1', 'H2bc1', 'Fndc3a', 'Ttll1', 'Terb1', 'Cfap91', 'Ttll5', 'Dlec1', 'Spef2', 'Leat1', 'Sycp2', 'Dpy19l2', 'Chd7', 'Spata33', 'Frs2', 'Spata32', 'Zmiz1', 'Rnase9', 'Npm2', 'Tubgcp6', 'Acsbg2', 'Svs3b', 'Dcst2', 'Catsper4', 'Hfm1', 'Ccdc63', 'Garin1b', 'Wipf3', 'Cecr2', 'Bsph1', 'Drc7', 'Piwil4', 'Tgm4', 'Gm773', 'Fnd3c2', 'Dnaaf6b', 'Mapk15', 'Nanos1', 'Trim75', 'Fndc3c1', 'Adam32', 'Defb37', 'Peg13', 'Nanos2', 'Morn2', 'Cfap54', 'Nefh', 'Shisa6', 'Spata22', 'Slirp', 'Rsl1', 'Gm20736', 'Kmt2d', 'Greb1l', 'Gm960', 'Spata6l', 'Cfap58', 'Atp2b4', 'Spag6', 'Pabpc1l', 'Rxfp1', '2610005L07Rik', 'Vgf', 'Zcwpw1', 'Wee2', 'Adam26b', 'Ccdc33', 'Slc22a14', 'Gm1140', 'Gm5168', 'Gm5169', 'Sly', 'Pfn4', 'Prdm14', 'Kash5', 'Adam20', 'Adam34l', 'Mir20a', 'Mir21a', 'Mir135a-1', 'Mir138-1', 'Mir143', 'Mir144', 'Mir182', 'Mir183', 'Mir184', 'Mir193a', 'Mir202', 'Mir26a-1', 'Mirlet7a-1', 'Mirlet7b', 'Mirlet7c-1', 'Mirlet7d', 'Ccdc87', 'Spag8', 'Iho1', 'Zscan4a', 'Rhox8', 'Ldoc1', 'Xlr4a', 'Ccin', 'Prok2', 'Ercc4', 'Spag6l', 'Dkkl1', 'Acsl4', 'Dmrt1', 'Stag3', 'Grb14', 'Tnk2', 'Ppp2r1a', 'Tubgcp4', 'Ccdc39', 'Umodl1', 'Bbs1', 'E2f7', 'Ncaph2', 'Slx4', 'Prdx4', 'Corin', 'Ybx2', 'Tsnax', 'Zpbp', 'Reck', 'Oaz3', 'Tuba8', 'Semg1', 'Nphp1', 'Gal3st1', 'Ddx20', 'Nell2', 'Diaph2', 'Acrbp', 'Avpr1a', 'Septin1', 'Irx5', 'Phc2', 'H1f9', 'Fmn2', 'Dnmt3l', 'Tug1', 'Hpgds', 'Kalrn', 'Syt6', 'Catspere2', 'Lrrc6', 'Zar1l', 'Adam39', 'Abhd2', 'Pde3a', 'Ubtfl1', 'Gm5934', 'Gm5935', 'Sfmbt1', 'Cfap73', 'Cadm1', 'Syt8', 'Ift20', 'Msh4', 'Smad9', 'Cts7', 'Cts8', 'Patz1', 'Zfp386', 'Fscn3', 'Ube2j1', 'Stk3', 'Styx', 'Dmrtb1', 'Nupr1', 'Tmed2', 'Mettl3', 'Fzr1', 'Adrm1', 'Ybx3', 'Foxo3', 'Ankrd49', 'Pmfbp1', 'Septin6', 'Adam21', 'Prl2a1', 'Crtap', 'Brinp1', 'Plag1', 'Mtor', 'Rec8', 'Tex101', 'Prss21', 'Retn', 'Park7', 'Zmynd15', 'Xlr3b', 'Xlr5a', 'Piwil2', 'Piwil1', 'Spata5', 'Tesc', 'Zfp318', 'Rad18', 'Cacna1h', 'Rnf8', 'Stk4', 'Tssk3', 'Ghrl', 'Nectin3', 'Mkks', 'Fetub', 'Fignl1', 'Fancg', 'Mapk8ip2', 'Foxj2', 'Esp1', 'Vmn2r116', 'Gm6121', 'Spocd1', 'Majin', 'Prr19', 'Rad54b', 'Gpx4', 'Ankrd31', 'Xlr5b', 'Hspe1-rs1', 'Catspere1', 'Cfap47', 'Sycp2l', 'Zfp296', 'Syne1', 'Svs3a', 'Sirt2', 'Suv39h2', 'Izumo1r', 'Asb1', 'Tbata', 'Pithd1', 'Cks2', 'Smurf2', 'Prl2b1', 'Slx', 'Plb1', 'Dzip1', 'Zscan4b', 'Vps13b', 'Prl2c1', 'Mcm8', 'Zfp541', 'Tex12', 'Nkapl', 'Spesp1', 'Actr2', 'Klhl10', 'Spag16', 'Cfap97', 'Efcab1', 'Syce1l', 'Tafazzin', 'Rad21l', 'Nuf2', 'Zfp830', 'Prl3a1', 'Rbm7', 'Mkrn2', 'Fancl', 'Upf3a', 'Ift27', 'Ndc80', 'Catsperz', 'Mastl', 'Topaz1', 'Fbxo5', 'Rnf212', 'Ctdnep1', 'Eif2s2', 'Tbc1d20', 'Prl8a9', 'Atp8b3', 'Tex43', 'Herc4', 'Jam2', 'Bbs2', 'Txndc8', 'Rnf151', 'Prl7c1', 'Mgat4d', 'Wdr48', 'Armc12', 'Spaca1', 'Prss37', 'Dnajc19', 'Eqtn', 'Paip2', 'Galntl5', 'Spata6', 'Ooep', 'Tppp3', 'Hormad1', 'Cntd1', 'Spire1', 'Iftap', 'H2al2a', 'Rpa1', 'Ncapd2', 'Rab13', 'Sgo2a', 'Rabl2', 'Washc1', 'Pygo2', 'Dnai1', 'Snrpa1', 'Lyzl4', 'Fuom', 'Ing2', 'Glipr1l1', 'Odf3', 'Efcab9', 'Pxt1', 'Pacrg', 'Cfap206', 'Spaca4', 'Zpbp2', 'Lyzl6', 'Actl9', 'Antxr1', 'Mapk1ip1', 'Iqcg', 'Trip13', 'Tcf23', 'A1cf', 'Cenps', 'Exoc1', 'Spink2', 'H1f7', 'Ube2q1', 'Smc4', 'Gorasp2', 'Poc1a', 'Dazap1', 'Ica1l', 'Mir124-2hg', 'Wdr77', 'Ddo', '3830403N18Rik', 'Ggnbp1', 'Slc22a16', 'Spata16', 'Cnbd2', 'Spdya', 'Garin2', 'Nsun7', 'Tex19.2', 'Cabs1', 'Prss55', 'Tekt3', 'Adam30', 'Septin12', 'Tssk4', 'Cabyr', 'Nipbl', 'Enkur', 'Dmrtc2', 'Spata24', 'Arid5b', 'Mcm9', 'Syde1', 'Mus81', 'Klhdc3', 'Pdilt', 'Shcbp1l', 'Tekt4', 'Tcp11x2', 'Syce2', 'Cfap52', 'Cfap45', 'Paqr7', 'Antxr2', 'Nanog', 'Tdrd12', 'Aplf', 'Pygo1', 'Tdrp', 'Dhx36', 'Tsnaxip1', 'Mir34b', 'Mir449a', 'Mir96', 'Mir34c', 'Mir471', 'Mir135a-2', 'Mir138-2', 'Mir26a-2', 'Mirlet7a-2', 'Mirlet7c-2', 'Sgo1', 'Taf4b', 'Rps6kb1', 'Lin9', 'Tdrkh', 'Ndc1', 'Xlr4c', 'Hspb11', 'Atat1', 'Prl8a1', 'Rhobtb3', 'Calr3', '1700040F15Rik', 'Slc25a31', 'Prss44', 'Nme8', 'Izumo1', 'C2cd6', 'Spata18', 'Mir455', 'Mir449c', 'Tssk5', 'Pldi', 'Rec114', 'Psma8', 'Tex19.1', '1110017D15Rik', 'Spata48', 'Ddias', 'Ttc21a', 'Asz1', 'Syce1', 'Paqr5', 'Actr3', 'Gtsf1', 'Prl8a8', 'Septin14', 'Paqr8', 'Tubgcp2', 'Iqcf1', 'Tbc1d21', 'Spem1', 'Ccdc182', 'Osbp2', 'Lrguk', 'Cep57', 'Spag17', 'Mei1', 'Hsf2bp', 'Ubap2l', 'Rmi1', 'Terb2', 'Sohlh2', 'Slc9b1', 'Pank2', 'Cfap53', 'Hyal5', 'Taf7l', 'Brme1', 'Tdrd9', 'Dnaaf6', 'Ttll9', 'Wbp2nl', 'Spata17', 'Dhcr24', 'Meikin', 'Pmis2', 'Tmprss12', 'Rnase10', 'Mei4', 'Slxl1', 'Mir672', 'Meiob', 'Spaca6', 'Boll', 'Kmt2b', 'Cfap97d1', 'Syce3', 'Spata19', '1700013H16Rik', 'Nme5', 'Tslrn1', 'Spata9', 'Prl7b1', 'Kdm5b', 'Spaca3', '1700029I15Rik', 'Spata25', 'Rai14', 'Klf17', 'Adad2', '4930447C04Rik', 'Senp2', 'Hormad2', 'Vmp1', 'Ropn1', 'Sun5', '1700028K03Rik', 'Fam209', 'Ly6k', 'Clasp2', 'Spatc1l', 'Llcfc1', 'Catsperg2', 'Usp42', 'Ago4', 'Catsper3', 'Nlrp14', 'Rhbdd1', 'Mnd1', 'Spata46', 'Psapl1', 'Slc9a8', 'Sun1', 'Crebrf', 'Yif1b', 'Spinkl', 'Stk31', 'Dnhd1', 'Nup210l', 'Odad3', 'Bsph2', 'Dcst1', 'Hook1', 'Sbf1', 'Crisp4', '4930451I11Rik', 'Spata31', 'Cox7b2', 'Creb3l4', 'Zfp449', 'Spaca7', 'Ncapd3', 'Celf3', 'Ak7', 'Fbxo43', 'Srd5a1', 'Sptbn4', 'Herpud2', 'H1f1', 'Maged2', 'Pum1', 'Rnf114', 'Kat5', 'Rsph6a', 'Mov10l1', 'Lin28a', 'Tex11', 'Tex14', 'Tdrd1', 'Jam3', 'Tssk6', 'Tac4', 'Selenof', 'Lztfl1', 'Aff4', 'Immp2l', 'Sirt1', 'Arid1a', 'Dach2', 'Nkd1', 'Csmd1', 'Gopc', 'Srd5a2', 'Fkbp6', 'Arid4b', 'Slc9b2', 'Hmgb2', 'Mael', 'Rdh10', 'Golga2', 'Tiparp\\n']\n"
     ]
    },
    {
     "name": "stdout",
     "output_type": "stream",
     "text": [
      "['Tdp1', 'Parp1', 'Smc2', 'Tnp1', 'Trpc2', 'Xrcc1', 'Lig4', 'Ercc6', 'Aptx', 'Smc4', 'Ercc8', 'Aplf', 'Sirt1\\n']\n",
      "['Slc15a4', 'Trrap', 'Radx', 'Mbtd1', 'Tex15', 'Nsd2', 'H1f6', 'Shld3', 'Actb', 'Parp1', 'Helb', 'Bcl6', 'Blm', 'Cd28', 'Chek1', 'Epc1', 'Ercc2', 'Smarcad1', 'H1f3', 'H1f0', 'Hdgfl2', 'Ifng', 'Il2', 'Il4', 'Lig3', 'Recql5', 'H1f8', 'Mlh1', 'Msh2', 'Msh3', 'Msh6', 'Pms2', 'Helq', 'Ptprc', 'Rad50', 'Rad51', 'Rad51ap1', 'Rpa2', 'Ruvbl2', 'Foxp3', 'Stat6', 'Supt6', 'Prdm9', 'Vps72', 'Cgas', 'Zfp365', 'Alyref', 'Wrap53', 'Terf2', 'Morf4l1', 'Tgfb1', 'Timeless', 'Cd40', 'Tfrc', 'Tnfsf4', 'Ube2b', 'Was', 'Rmi2', 'Spidr', 'Thoc1', 'Rbbp8', 'Kmt5b', 'Zranb3', 'Epc2', 'Pogz', 'Hmces', 'Ppp4r2', 'Kmt5c', 'Fus', 'Ankle1', 'Parp3', 'Setd2', 'Klhl15', 'Fancb', 'Atad5', 'H1f10', 'Zscan4c', 'Rtel1', 'Trp53bp1', 'Ercc6', 'Zcwpw1', 'H1f2', 'H1f4', 'Sirt6', 'Fbh1', 'Il27ra', 'Rif1', 'H1f9', 'Paxip1', 'Alyref2', 'Morf4l2', 'Ppp4c', 'Actl6a', 'Ruvbl1', 'H1f5', 'Clcf1', 'Terf2ip', 'Tbx21', 'Rad18', 'Pias4', 'Fignl1', 'Usp51', 'Yeats4', 'Ndfip1', 'Dmap1', 'Exosc3', 'Actr2', 'Khdc3', 'Pagr1a', 'Wdr48', 'Ooep', 'Mrnip', 'Tnfsf13', 'Meaf6', '4931428L18Rik', 'Ing3', 'Mad2l2', 'Aplf', 'Mms19', 'Mir181b-1', 'Mir181b-2', 'Exosc6', 'Pot1b', 'Mrgbp', 'Shld1', 'Smchd1', 'Parpbp', 'Ep400', 'Shld2', 'Arid2', 'Polq', 'Brd8', 'H1f1', 'Kat5', 'Ubqln4', 'Kdm1a\\n']\n",
      "['Blm', 'Ercc2', 'Mlh1', 'Rad50', 'Terf2', 'Ankle1', 'Zscan4c\\n']\n",
      "['Numa1', 'Birc5', 'Incenp', 'Aurkb', 'Prc1', 'Racgap1', 'Cdca8', 'Kif23', 'Map10\\n']\n",
      "['Mdn1', 'Rpl5', 'Nop2', 'Rpl10', 'Rplp0', 'Bop1', 'mt-Rnr2', 'Rpl6', 'Nle1', 'Traf7', 'Ppan', 'Rpl10l', 'Rpl23a', 'Rrs1', 'Mrpl20', 'Rpl11', 'Rpf2', 'Rpl38', 'Brix1', 'Mrm2', 'Nop53', 'Rpl24', 'Mrto4', 'Ddx28', 'Dhx30', 'Fastkd2\\n']\n",
      "['Pwp2', 'Fau', 'Rpsa', 'mt-Rnr1', 'Prkdc', 'Rps14', 'Rps15', 'Rps19', 'Rps5', 'Rps6', 'Xrcc5', 'Abt1', 'Mrps7', 'Rps28', 'Rps27', 'Eral1', 'Rpl38', 'Rps27l', 'Mrps11', 'Rrp7a', 'Rps25\\n']\n",
      "['Tecr', 'Acaa1a', 'Acox1', 'Abcd1', 'Elovl3', 'Acsl1', 'Hsd17b4', 'Elovl6', 'Acot2', 'Acot3', 'Acot4', 'Abcd3', 'Abcd4', 'Pex2', 'Pex5', 'Acsl6', 'Acot5', 'Acaa1b', 'Tecrl', 'Slc27a2', 'Slc27a5', 'Slc27a4', 'Abcd2', 'Hacd1', 'Elovl1', 'Elovl2', 'Hacd3', 'Hacd4', 'Elovl5', 'Hacd2', 'Elovl7', 'Elovl4', 'Acox2', 'Acsbg1\\n']\n",
      "['Slc39a3', 'Slc39a6', 'Slc30a9', 'Abcb7', 'Steap4', 'Ap3b1', 'Ap3d1', 'Atox1', 'Atp7a', 'Atp7b', 'B2m', 'Abcc2', 'Cp', 'Dnm2', 'Sfxn1', 'Fkbp4', 'Fth1', 'Cblif', 'Slc39a7', 'Heph', 'Hfe', 'Hpx', 'Hrh1', 'Hsd3b2', 'Hsd3b3', 'Hsd3b6', 'Ifng', 'Lcn2', 'Ltf', 'Timd2', 'Mt3', 'Myo1b', 'Nos1', 'Slc11a1', 'Slc11a2', 'Pik3c2a', 'Rab11b', 'Ryr2', 'Slc1a1', 'Slc31a1', 'Slc31a2', 'Slc30a6', 'Slc39a14', 'Tcn2', 'Slc39a2', 'Mmgt2', 'Flvcr2', 'Tmem165', 'Trf', 'Tfrc', 'Slc30a10', 'Flvcr1', 'Slc39a10', 'Slc30a1', 'Slc30a3', 'Slc30a4', 'Arhgap1', 'Slc30a2', 'Lmtk2', 'Atp2c1', 'Mmgt1', 'Slc30a8', 'Hephl1', 'Slc25a28', 'Abcc5', 'Slc39a12', 'Trpm2', 'Meltf', 'Slc39a1', 'Slc39a9', 'Tfr2', 'Slc46a1', 'Slc40a1', 'Snx3', 'Nectin1', 'Slc22a17', 'Iscu', 'Hamp2', 'Slc30a7', 'Rep15', 'Cltc', 'Slc39a8', 'Ftmt', 'Slc25a37', 'Slc48a1', 'Slc39a13', 'Steap3', 'Atp2c2', 'Slc30a5', 'Slc39a11', 'Steap1', 'Pgrmc2', 'Scara5', 'Inhca', 'Slc39a5', 'Slc39a4', 'Tmem163', 'Steap2', 'Abcb6', 'Hamp', 'Hrg\\n']\n"
     ]
    }
   ],
   "source": [
    "#gp.get_library_name()\n",
    "#all_libraries = gp.get_library_name()\n",
    "#print(all_libraries)\n",
    "#gmt_file = \"m5.go.bp.v2023.1.Mm.symbols.gmt\"\n",
    "gmt_file = \"m5.all.v2023.1.Mm.symbols.gmt\"\n",
    "with open(gmt_file, 'r') as file:\n",
    "    for _ in range(10):\n",
    "        print(file.readline().split('\\t')[2:])"
   ]
  },
  {
   "cell_type": "code",
   "execution_count": 20,
   "metadata": {},
   "outputs": [
    {
     "name": "stdout",
     "output_type": "stream",
     "text": [
      "<gseapy.gsea.Prerank object at 0x7f91636399b0>\n"
     ]
    }
   ],
   "source": [
    "pre_res = gp.prerank(rnk=ranking, gene_sets=gmt_file, seed=6, permutation_num=100, min_size=1, max_size=5000, outdir=\"GSEA_GO\")\n",
    "print(pre_res)"
   ]
  },
  {
   "cell_type": "code",
   "execution_count": 21,
   "metadata": {},
   "outputs": [],
   "source": [
    "out = []\n",
    "for term in list(pre_res.results):\n",
    "    out.append([term,\n",
    "               pre_res.results[term]['fdr'],\n",
    "               pre_res.results[term]['es'],\n",
    "               pre_res.results[term]['nes']])\n",
    "out_df = pd.DataFrame(out, columns = ['Term','fdr', 'es', 'nes']).sort_values('fdr').reset_index(drop = True)\n",
    "out_df.to_csv('Upgenes_gsea_gene_ontology.tsv', sep='\\t', index=False)"
   ]
  },
  {
   "cell_type": "code",
   "execution_count": 22,
   "metadata": {},
   "outputs": [
    {
     "data": {
      "text/plain": [
       "'GOBP_RESPONSE_TO_EXTRACELLULAR_STIMULUS'"
      ]
     },
     "execution_count": 22,
     "metadata": {},
     "output_type": "execute_result"
    }
   ],
   "source": [
    "term_to_graph = out_df.iloc[1].Term\n",
    "term_to_graph"
   ]
  },
  {
   "cell_type": "code",
   "execution_count": 23,
   "metadata": {},
   "outputs": [
    {
     "data": {
      "image/png": "[encoded data removed]",
      "text/plain": [
       "<Figure size 432x396 with 4 Axes>"
      ]
     },
     "metadata": {
      "needs_background": "light"
     },
     "output_type": "display_data"
    }
   ],
   "source": [
    "gseaplot(pre_res.ranking, term = term_to_graph, **pre_res.results[term_to_graph])"
   ]
  },
  {
   "cell_type": "code",
   "execution_count": 24,
   "metadata": {},
   "outputs": [
    {
     "name": "stdout",
     "output_type": "stream",
     "text": [
      "['Ikbkb', 'Nfkb2', 'Nfkb1', 'Ikbkg', 'Chuk', 'Nfkbia', 'Rela', '\\n']\n",
      "['Ppp1cb', 'Tubb5', 'Plk4', 'Plk1', 'Alms1', 'Prkar2b', 'Cetn2', 'Rab8a', 'Cep43', 'Cep135', 'Ppp2r1a', 'Cep41', 'Cep131', 'Cul1', 'Cdk1', 'Cenpj', 'Tubb4b', 'Tubb4a', 'Ninl', 'Nedd1', 'Actr1a', 'Haus7', 'Tuba1a', 'Haus8', 'Clasp1', 'Cdk5rap2', 'Pafah1b1', 'Dync1h1', 'Ywhag', 'Cep57', 'Hsp90aa1', 'Pcm1', 'Ppp1r12a', 'Ywhae', 'Dctn2', 'Dctn3', 'Ssna1', 'Nek2', 'Tubg1', 'Skp1', 'Optn', 'Ccnb2', 'Ofd1', 'Akap9', 'Prkaca', 'Fbxw11', 'Dync1i2', 'Cep63', 'Cep152', 'Haus3', 'Tuba4a', 'Haus4', 'Haus5', 'Haus6', 'Btrc', 'Pcnt', 'Csnk1d', 'Sfi1', 'Ckap5', 'Csnk1e', 'Haus1', 'Aurka', 'Haus2', 'Bora', 'Cep250', 'Sdccag8', 'Ajuba', 'Cep78', 'Mapre1', 'Cep76', 'Cep164', 'Cep72', 'Ubc', 'Cep70', 'Ccp110', 'Dynll1', '\\n']\n",
      "['Pias4', 'Rxra', 'Hdac4', 'Ube2i', 'Rara', 'Pgr', 'Nr5a1', 'Pias1', 'Nr4a2', 'Nr3c2', 'Nr3c1', 'Thrb', 'Nr2c1', 'Vdr', 'Sumo3', 'Nr1h2', 'Rora', 'Ppara', 'Esr1', 'Pparg', 'Pias3', 'Ar', '\\n']\n",
      "['Plk1', 'Anapc5', 'Anapc4', 'Anapc1', 'Anapc2', 'Anapc11', 'Ube2c', 'Cdk1', 'Anapc10', 'Cdc27', 'Cdc16', 'Ube2e1', 'Anapc16', 'Cdc23', 'Anapc15', '\\n']\n",
      "['Slc25a5', 'Slc25a4', '\\n']\n",
      "['Cul1', 'Psma4', 'Psma3', 'Psma6', 'Psma5', 'Psme4', 'Psme3', 'Psma2', 'Psma1', 'Ikbkb', 'Psme1', 'Map3k7', 'Psmd12', 'Nfkb1', 'Ikbkg', 'Psmd11', 'Psmd10', 'Chuk', 'Psmb11', 'Nfkbia', 'Psmd14', 'Rela', 'Psmd13', 'Psmb10', 'Malt1', 'Psmb5', 'Psmb4', 'Psmb7', 'Psmb6', 'Psmb1', 'Psmb3', 'Psmb2', 'Psmf1', 'Card11', 'PSME2b', 'Prkcb', 'Psma7', 'Psmc6', 'Psmc5', 'Psmc2', 'Psmc1', 'Psmc4', 'Skp1', 'Psmc3', 'Bcl10', 'Psmb9', 'Psmb8', 'Psmd7', 'Psmd6', 'Fbxw11', 'Nfkbib', 'Nfkbie', 'Psmd9', 'Psmd8', 'Psmd3', 'Psmd2', 'Psmd5', 'Psmd4', 'Psmd1', 'Btrc', 'Sem1', 'Rel', 'Ubc', '\\n']\n",
      "['Kif3a', 'Kif3b', 'Racgap1', 'Kif5b', 'Kif1c', 'Kif21a', 'Kif21b', 'Kif1a', 'Kif13b', 'Kif3c', 'Kif1b', 'Kif6', 'Kif4', 'Kif9', 'Kif22', 'Kif23', 'Cenpe', 'Kif27', 'Kif18a', 'Kif18b', 'Kif26b', 'Kifc2', 'Kif2a', 'Kif16b', 'Kif26a', 'Kif20a', 'Kif2b', 'Kif2c', 'Klc1', 'Kifap3', 'Kif20b', 'Klc4', 'Klc3', 'Klc2', 'Kif11', 'Kif12', 'Kif15', 'Kif19a', '\\n']\n",
      "['Brca1', 'Bard1', '\\n']\n",
      "['Col18a1', 'Col14a1', 'Cdh1', 'Optc', 'Bsg', 'Htra1', 'Col26a1', 'Adamts1', 'Adamts5', 'Adamts4', 'Col9a2', 'Adamts8', 'Col9a3', 'Col9a1', 'Lama5', 'Lama3', 'Ctrb1', 'Hspg2', 'Cast', 'Ncstn', 'Col17a1', 'Col13a1', 'Nid1', 'Klk7', 'Elane', 'Bcan', 'Capn9', 'Scube3', 'Capn8', 'Scube1', 'Capn5', 'Capn7', 'Capn6', 'Col25a1', 'Capn1', 'Capn3', 'Capn2', 'Tmprss6', 'Mmp1a', 'Tpsb2', 'Bmp1', 'A2m', 'Ctsb', 'Col16a1', 'Mmp24', 'Ctsd', 'Mmp25', 'Col12a1', 'Ctsg', 'Ctsk', 'Adam15', 'Ctsl', 'Adam17', 'Ctss', 'Adam10', 'Mmp20', 'Mmp11', 'Mmp12', 'Mmp13', 'Mmp7', 'Mmp14', 'Mmp15', 'Mmp16', 'Mmp2', 'Mmp17', 'Mmp3', 'Adam9', 'Mmp19', 'Adam8', 'Mmp8', 'Mmp9', 'Dcn', 'Mmp10', 'Col15a1', 'Capn15', 'Plg', 'Klkb1', 'Adamts16', 'Col19a1', 'Adamts18', 'Phykpl', 'Lamb3', 'Spp1', 'Furin', 'Cma1', 'Lamb1', 'Cd44', 'Casp3', 'Col23a1', 'Timp1', 'Timp2', 'Prss2', 'Tll2', 'Spock3', 'Capns1', 'Tll1', 'Lamc1', 'Capn10', 'Lamc2', 'Capns2', 'Capn11', 'Capn13', '\\n']\n",
      "['Sis', 'Chia', 'Chit1', 'Mgam', 'Treh', 'Amy2a5', 'Amy1', 'Lct', '\\n']\n"
     ]
    }
   ],
   "source": [
    "#gp.get_library_name()\n",
    "#all_libraries = gp.get_library_name()\n",
    "#print(all_libraries)\n",
    "#gmt_file = \"m5.go.bp.v2023.1.Mm.symbols.gmt\"\n",
    "Mouse_GO_Pathway_file = \"Mouse_Human_Reactome_July_03_2023_symbol.gmt\"\n",
    "with open(Mouse_GO_Pathway_file, 'r') as file:\n",
    "    for _ in range(10):\n",
    "        print(file.readline().split('\\t')[2:])"
   ]
  },
  {
   "cell_type": "code",
   "execution_count": 25,
   "metadata": {},
   "outputs": [
    {
     "name": "stdout",
     "output_type": "stream",
     "text": [
      "<gseapy.gsea.Prerank object at 0x7f915c8069b0>\n"
     ]
    }
   ],
   "source": [
    "pathway_res = gp.prerank(rnk=ranking, gene_sets=Mouse_GO_Pathway_file, seed=6, permutation_num=100, min_size=1, max_size=5000, outdir=\"GSEA_PATHWAY\")\n",
    "print(pathway_res)"
   ]
  },
  {
   "cell_type": "code",
   "execution_count": 26,
   "metadata": {},
   "outputs": [],
   "source": [
    "out = []\n",
    "for term in list(pathway_res.results):\n",
    "    out.append([term,\n",
    "               pathway_res.results[term]['fdr'],\n",
    "               pathway_res.results[term]['es'],\n",
    "               pathway_res.results[term]['nes']])\n",
    "out_df = pd.DataFrame(out, columns = ['Term','fdr', 'es', 'nes']).sort_values('fdr').reset_index(drop = True)\n",
    "out_df.to_csv('Upgenes_pathway_results.tsv', sep='\\t', index=False)"
   ]
  },
  {
   "cell_type": "code",
   "execution_count": null,
   "metadata": {},
   "outputs": [],
   "source": []
  }
 ],
 "metadata": {
  "kernelspec": {
   "display_name": "Python 3",
   "language": "python",
   "name": "python3"
  },
  "language_info": {
   "codemirror_mode": {
    "name": "ipython",
    "version": 3
   },
   "file_extension": ".py",
   "mimetype": "text/x-python",
   "name": "python",
   "nbconvert_exporter": "python",
   "pygments_lexer": "ipython3",
   "version": "3.7.3"
  }
 },
 "nbformat": 4,
 "nbformat_minor": 5
}
