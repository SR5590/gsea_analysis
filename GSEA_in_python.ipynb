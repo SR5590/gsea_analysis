{
 "cells": [
  {
   "cell_type": "code",
   "execution_count": null,
   "metadata": {},
   "outputs": [],
   "source": [
    "import pandas as pd\n",
    "import gseapy as gp\n",
    "from numpy import log10\n",
    "from gseapy.plot import dotplot"
   ]
  },
  {
   "cell_type": "code",
   "execution_count": null,
   "metadata": {},
   "outputs": [],
   "source": [
    "df = pd.read_csv('02_deseq_protein_coding.tsv', sep='\\t')"
   ]
  },
  {
   "cell_type": "code",
   "execution_count": null,
   "metadata": {},
   "outputs": [],
   "source": [
    "print(df)"
   ]
  },
  {
   "cell_type": "code",
   "execution_count": null,
   "metadata": {},
   "outputs": [],
   "source": [
    "# Add a small value to padj to avoid issues with zero values\n",
    "df['padj'] = df['padj'] + (10**-100)"
   ]
  },
  {
   "cell_type": "code",
   "execution_count": null,
   "metadata": {},
   "outputs": [],
   "source": [
    "# Calculate the score based on -log10(padj)\n",
    "df['score'] = log10(df['padj']) * -1"
   ]
  },
  {
   "cell_type": "code",
   "execution_count": null,
   "metadata": {},
   "outputs": [],
   "source": [
    "# Define the sign_of_fold function\n",
    "def sign_of_fold(fold):\n",
    "    if fold < 0:\n",
    "        return -1\n",
    "    elif fold > 0:\n",
    "        return 1\n",
    "    else:\n",
    "        return 1"
   ]
  },
  {
   "cell_type": "code",
   "execution_count": null,
   "metadata": {},
   "outputs": [],
   "source": [
    "# Calculate the foldsign and adjust the score\n",
    "df['foldsign'] = df['log2FoldChange'].apply(sign_of_fold)\n",
    "df['score'] = df['score'] * df['foldsign']"
   ]
  },
  {
   "cell_type": "code",
   "execution_count": null,
   "metadata": {},
   "outputs": [],
   "source": [
    "# Gene IDs to uppercase\n",
    "df['gene_id'] = df['gene_id'].str.upper()"
   ]
  },
  {
   "cell_type": "code",
   "execution_count": null,
   "metadata": {},
   "outputs": [],
   "source": [
    "# Define the gene list for GSEA\n",
    "gene_list = list(df['gene_id'])"
   ]
  },
  {
   "cell_type": "code",
   "execution_count": null,
   "metadata": {},
   "outputs": [],
   "source": [
    "# Perform prerank GSEA\n",
    "prerank_res = gp.prerank(rnk=df[['gene_id', 'score']],\n",
    "                         gene_sets='KEGG_2019_Mouse',  # Specify gene set\n",
    "                         processes=4,  # Number of processes for parallel computation\n",
    "                         permutation_num=10000,  # Number of permutations for statistical testing\n",
    "                         outdir='GSEA_prerank_results',  # Output directory\n",
    "                         graph_num=50,\n",
    "                         min_size=100,  # Minimum number of genes in a gene set\n",
    "                         #max_size=500,  # Maximum number of genes in a gene set\n",
    "                         seed=42) "
   ]
  },
  {
   "cell_type": "code",
   "execution_count": null,
   "metadata": {},
   "outputs": [],
   "source": [
    "# Perform enrichr GSEA using the same gene list\n",
    "enrichr_res = gp.enrichr(gene_list=gene_list,\n",
    "                         gene_sets=['KEGG_2019_Mouse'],  # Specify gene set\n",
    "                         organism='mouse',\n",
    "                         description='GSEA Enrichr Analysis',\n",
    "                         outdir='GSEA__enrichr_results',\n",
    "                         cutoff=0.5)  # Cutoff for gene set inclusion"
   ]
  },
  {
   "cell_type": "code",
   "execution_count": null,
   "metadata": {},
   "outputs": [],
   "source": [
    "dotplot(enrichr_res.res2d, title='KEGG_2019_Mouse',cmap='viridis_r', ofname='GSEA__enrichr_results/ScatterHeat_enrichR.pdf')"
   ]
  },
  {
   "cell_type": "code",
   "execution_count": null,
   "metadata": {},
   "outputs": [],
   "source": []
  }
 ],
 "metadata": {
  "kernelspec": {
   "display_name": "Python 3",
   "language": "python",
   "name": "python3"
  },
  "language_info": {
   "codemirror_mode": {
    "name": "ipython",
    "version": 3
   },
   "file_extension": ".py",
   "mimetype": "text/x-python",
   "name": "python",
   "nbconvert_exporter": "python",
   "pygments_lexer": "ipython3",
   "version": "3.7.3"
  }
 },
 "nbformat": 4,
 "nbformat_minor": 2
}
