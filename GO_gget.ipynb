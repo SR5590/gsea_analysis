{
 "cells": [
  {
   "cell_type": "code",
   "execution_count": null,
   "id": "55fb2e2e",
   "metadata": {},
   "outputs": [],
   "source": [
    "import pandas as pd"
   ]
  },
  {
   "cell_type": "code",
   "execution_count": null,
   "id": "978d192c",
   "metadata": {},
   "outputs": [],
   "source": [
    "tsv_file_path = '02_deseq_protein_coding_H2A_52_vs_EV_52.tsv'\n",
    "deseq_data = pd.read_csv(tsv_file_path, sep='\\t')"
   ]
  },
  {
   "cell_type": "code",
   "execution_count": null,
   "id": "f656a872",
   "metadata": {},
   "outputs": [],
   "source": [
    "deseq_data.columns"
   ]
  },
  {
   "cell_type": "code",
   "execution_count": null,
   "id": "bbd3c461",
   "metadata": {},
   "outputs": [],
   "source": [
    "deseq_data['gene_id'].to_list()"
   ]
  },
  {
   "cell_type": "code",
   "execution_count": null,
   "id": "4468269d",
   "metadata": {},
   "outputs": [],
   "source": [
    "import gget"
   ]
  },
  {
   "cell_type": "code",
   "execution_count": null,
   "id": "9059e91f",
   "metadata": {},
   "outputs": [],
   "source": [
    "gget.enrichr(deseq_data['gene_id'].to_list(), database=\"GO_Biological_Process_2023\", plot=True,save=True)"
   ]
  },
  {
   "cell_type": "code",
   "execution_count": null,
   "id": "52a311d5",
   "metadata": {},
   "outputs": [],
   "source": [
    "gget.enrichr(deseq_data['gene_id'].to_list(), database=\"GO_Cellular_Component_2023\", plot=True,save=True)"
   ]
  },
  {
   "cell_type": "code",
   "execution_count": null,
   "id": "934e1997",
   "metadata": {},
   "outputs": [],
   "source": [
    "gget.enrichr(deseq_data['gene_id'].to_list(), database=\"GO_Molecular_Function_2023\", plot=True,save=True)"
   ]
  }
 ],
 "metadata": {
  "kernelspec": {
   "display_name": "Python 3 (ipykernel)",
   "language": "python",
   "name": "python3"
  },
  "language_info": {
   "codemirror_mode": {
    "name": "ipython",
    "version": 3
   },
   "file_extension": ".py",
   "mimetype": "text/x-python",
   "name": "python",
   "nbconvert_exporter": "python",
   "pygments_lexer": "ipython3",
   "version": "3.11.4"
  }
 },
 "nbformat": 4,
 "nbformat_minor": 5
}
